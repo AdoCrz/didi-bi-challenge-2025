{
 "cells": [
  {
   "cell_type": "markdown",
   "id": "92898c8e",
   "metadata": {},
   "source": [
    "# ***Limpieza***"
   ]
  },
  {
   "cell_type": "markdown",
   "id": "71263107",
   "metadata": {},
   "source": [
    "Dado que existen **valores faltantes** o registros con **datos erróneos** en la columna `visit_date` del DataFrame `restaurants_visitors`, se realizará una limpieza adicional. \n",
    "\n",
    "Esta limpieza es fundamental para asegurar que:\n",
    "\n",
    "- Las fechas estén correctamente formateadas y sin errores.\n",
    "- Las consultas SQL reflejen información confiable.\n",
    "- La predicción de series de tiempo tenga sentido y no se vea afectada por inconsistencias en los datos.\n",
    "\n",
    "Se eliminarán o corregirán los registros que no puedan convertirse en fechas válidas."
   ]
  },
  {
   "cell_type": "code",
   "execution_count": 31,
   "id": "d572d684",
   "metadata": {},
   "outputs": [],
   "source": [
    "import pandas as pd"
   ]
  },
  {
   "cell_type": "code",
   "execution_count": 32,
   "id": "685587ad",
   "metadata": {},
   "outputs": [],
   "source": [
    "path = r'C:\\Users\\CRUZRAA\\OneDrive - MC CORMICK & COMPANY INC\\Documentos\\02.2025\\04. PERSONAL\\BIChallenge\\restaurants_visitors.csv'\n",
    "df = pd.read_csv(path)"
   ]
  },
  {
   "cell_type": "markdown",
   "id": "64101a76",
   "metadata": {},
   "source": [
    "### ***Identificando datos faltantes*** "
   ]
  },
  {
   "cell_type": "code",
   "execution_count": 33,
   "id": "ee437d52",
   "metadata": {},
   "outputs": [
    {
     "data": {
      "text/html": [
       "<div>\n",
       "<style scoped>\n",
       "    .dataframe tbody tr th:only-of-type {\n",
       "        vertical-align: middle;\n",
       "    }\n",
       "\n",
       "    .dataframe tbody tr th {\n",
       "        vertical-align: top;\n",
       "    }\n",
       "\n",
       "    .dataframe thead th {\n",
       "        text-align: right;\n",
       "    }\n",
       "</style>\n",
       "<table border=\"1\" class=\"dataframe\">\n",
       "  <thead>\n",
       "    <tr style=\"text-align: right;\">\n",
       "      <th></th>\n",
       "      <th>id</th>\n",
       "      <th>visit_date</th>\n",
       "      <th>visit_datetime</th>\n",
       "      <th>reserve_datetime</th>\n",
       "      <th>reserve_visitors</th>\n",
       "    </tr>\n",
       "  </thead>\n",
       "  <tbody>\n",
       "    <tr>\n",
       "      <th>0</th>\n",
       "      <td>db80363d35f10926</td>\n",
       "      <td>2016-01-01</td>\n",
       "      <td>01/01/2016 00:00</td>\n",
       "      <td>01/01/2016 01:00</td>\n",
       "      <td>5</td>\n",
       "    </tr>\n",
       "    <tr>\n",
       "      <th>1</th>\n",
       "      <td>db80363d35f10926</td>\n",
       "      <td>2016-01-02</td>\n",
       "      <td>02/01/2016 01:00</td>\n",
       "      <td>01/01/2016 16:00</td>\n",
       "      <td>2</td>\n",
       "    </tr>\n",
       "    <tr>\n",
       "      <th>2</th>\n",
       "      <td>db80363d35f10926</td>\n",
       "      <td>2016-01-02</td>\n",
       "      <td>02/01/2016 01:00</td>\n",
       "      <td>01/01/2016 15:00</td>\n",
       "      <td>4</td>\n",
       "    </tr>\n",
       "    <tr>\n",
       "      <th>3</th>\n",
       "      <td>db80363d35f10926</td>\n",
       "      <td>2016-01-02</td>\n",
       "      <td>02/01/2016 18:00</td>\n",
       "      <td>02/01/2016 14:00</td>\n",
       "      <td>2</td>\n",
       "    </tr>\n",
       "    <tr>\n",
       "      <th>4</th>\n",
       "      <td>db80363d35f10926</td>\n",
       "      <td>2016-01-02</td>\n",
       "      <td>02/01/2016 18:00</td>\n",
       "      <td>02/01/2016 02:00</td>\n",
       "      <td>3</td>\n",
       "    </tr>\n",
       "  </tbody>\n",
       "</table>\n",
       "</div>"
      ],
      "text/plain": [
       "                 id  visit_date    visit_datetime  reserve_datetime  \\\n",
       "0  db80363d35f10926  2016-01-01  01/01/2016 00:00  01/01/2016 01:00   \n",
       "1  db80363d35f10926  2016-01-02  02/01/2016 01:00  01/01/2016 16:00   \n",
       "2  db80363d35f10926  2016-01-02  02/01/2016 01:00  01/01/2016 15:00   \n",
       "3  db80363d35f10926  2016-01-02  02/01/2016 18:00  02/01/2016 14:00   \n",
       "4  db80363d35f10926  2016-01-02  02/01/2016 18:00  02/01/2016 02:00   \n",
       "\n",
       "   reserve_visitors  \n",
       "0                 5  \n",
       "1                 2  \n",
       "2                 4  \n",
       "3                 2  \n",
       "4                 3  "
      ]
     },
     "execution_count": 33,
     "metadata": {},
     "output_type": "execute_result"
    }
   ],
   "source": [
    "df.head()"
   ]
  },
  {
   "cell_type": "code",
   "execution_count": 34,
   "id": "377018a6",
   "metadata": {},
   "outputs": [
    {
     "data": {
      "text/plain": [
       "id                  0\n",
       "visit_date          0\n",
       "visit_datetime      0\n",
       "reserve_datetime    0\n",
       "reserve_visitors    0\n",
       "dtype: int64"
      ]
     },
     "execution_count": 34,
     "metadata": {},
     "output_type": "execute_result"
    }
   ],
   "source": [
    "df.isnull().sum()"
   ]
  },
  {
   "cell_type": "code",
   "execution_count": 35,
   "id": "028d827f",
   "metadata": {},
   "outputs": [
    {
     "data": {
      "text/plain": [
       "id                  object\n",
       "visit_date          object\n",
       "visit_datetime      object\n",
       "reserve_datetime    object\n",
       "reserve_visitors     int64\n",
       "dtype: object"
      ]
     },
     "execution_count": 35,
     "metadata": {},
     "output_type": "execute_result"
    }
   ],
   "source": [
    "df.dtypes"
   ]
  },
  {
   "cell_type": "code",
   "execution_count": 36,
   "id": "e62967eb",
   "metadata": {},
   "outputs": [
    {
     "data": {
      "text/html": [
       "<div>\n",
       "<style scoped>\n",
       "    .dataframe tbody tr th:only-of-type {\n",
       "        vertical-align: middle;\n",
       "    }\n",
       "\n",
       "    .dataframe tbody tr th {\n",
       "        vertical-align: top;\n",
       "    }\n",
       "\n",
       "    .dataframe thead th {\n",
       "        text-align: right;\n",
       "    }\n",
       "</style>\n",
       "<table border=\"1\" class=\"dataframe\">\n",
       "  <thead>\n",
       "    <tr style=\"text-align: right;\">\n",
       "      <th></th>\n",
       "      <th>id</th>\n",
       "      <th>visit_date</th>\n",
       "      <th>visit_datetime</th>\n",
       "      <th>reserve_datetime</th>\n",
       "      <th>reserve_visitors</th>\n",
       "    </tr>\n",
       "  </thead>\n",
       "  <tbody>\n",
       "    <tr>\n",
       "      <th>1567</th>\n",
       "      <td>965b2e0cf4119003</td>\n",
       "      <td>#VALUE!</td>\n",
       "      <td>26/10/2016 20:00</td>\n",
       "      <td>25/10/2016 17:00</td>\n",
       "      <td>5</td>\n",
       "    </tr>\n",
       "    <tr>\n",
       "      <th>1568</th>\n",
       "      <td>42c9aa6d617c5057</td>\n",
       "      <td>#VALUE!</td>\n",
       "      <td>27/10/2016 11:00</td>\n",
       "      <td>26/10/2016 13:00</td>\n",
       "      <td>5</td>\n",
       "    </tr>\n",
       "    <tr>\n",
       "      <th>1569</th>\n",
       "      <td>45326ebb8dc72cfb</td>\n",
       "      <td>#VALUE!</td>\n",
       "      <td>27/10/2016 11:00</td>\n",
       "      <td>26/10/2016 21:00</td>\n",
       "      <td>1</td>\n",
       "    </tr>\n",
       "    <tr>\n",
       "      <th>1570</th>\n",
       "      <td>45326ebb8dc72cfb</td>\n",
       "      <td>#VALUE!</td>\n",
       "      <td>27/10/2016 11:00</td>\n",
       "      <td>26/10/2016 21:00</td>\n",
       "      <td>1</td>\n",
       "    </tr>\n",
       "    <tr>\n",
       "      <th>1571</th>\n",
       "      <td>0a74a5408a0b8642</td>\n",
       "      <td>#VALUE!</td>\n",
       "      <td>27/10/2016 17:00</td>\n",
       "      <td>27/10/2016 14:00</td>\n",
       "      <td>2</td>\n",
       "    </tr>\n",
       "    <tr>\n",
       "      <th>...</th>\n",
       "      <td>...</td>\n",
       "      <td>...</td>\n",
       "      <td>...</td>\n",
       "      <td>...</td>\n",
       "      <td>...</td>\n",
       "    </tr>\n",
       "    <tr>\n",
       "      <th>5448</th>\n",
       "      <td>324f7c39a8410e7c</td>\n",
       "      <td>#VALUE!</td>\n",
       "      <td>31/12/2016 20:00</td>\n",
       "      <td>29/12/2016 19:00</td>\n",
       "      <td>4</td>\n",
       "    </tr>\n",
       "    <tr>\n",
       "      <th>5449</th>\n",
       "      <td>324f7c39a8410e7c</td>\n",
       "      <td>#VALUE!</td>\n",
       "      <td>31/12/2016 20:00</td>\n",
       "      <td>27/11/2016 18:00</td>\n",
       "      <td>2</td>\n",
       "    </tr>\n",
       "    <tr>\n",
       "      <th>5450</th>\n",
       "      <td>324f7c39a8410e7c</td>\n",
       "      <td>#VALUE!</td>\n",
       "      <td>31/12/2016 20:00</td>\n",
       "      <td>30/12/2016 18:00</td>\n",
       "      <td>7</td>\n",
       "    </tr>\n",
       "    <tr>\n",
       "      <th>5451</th>\n",
       "      <td>db80363d35f10926</td>\n",
       "      <td>#VALUE!</td>\n",
       "      <td>31/12/2016 21:00</td>\n",
       "      <td>09/12/2016 20:00</td>\n",
       "      <td>7</td>\n",
       "    </tr>\n",
       "    <tr>\n",
       "      <th>5452</th>\n",
       "      <td>db80363d35f10926</td>\n",
       "      <td>#VALUE!</td>\n",
       "      <td>31/12/2016 23:00</td>\n",
       "      <td>28/12/2016 10:00</td>\n",
       "      <td>2</td>\n",
       "    </tr>\n",
       "  </tbody>\n",
       "</table>\n",
       "<p>3886 rows × 5 columns</p>\n",
       "</div>"
      ],
      "text/plain": [
       "                    id visit_date    visit_datetime  reserve_datetime  \\\n",
       "1567  965b2e0cf4119003    #VALUE!  26/10/2016 20:00  25/10/2016 17:00   \n",
       "1568  42c9aa6d617c5057    #VALUE!  27/10/2016 11:00  26/10/2016 13:00   \n",
       "1569  45326ebb8dc72cfb    #VALUE!  27/10/2016 11:00  26/10/2016 21:00   \n",
       "1570  45326ebb8dc72cfb    #VALUE!  27/10/2016 11:00  26/10/2016 21:00   \n",
       "1571  0a74a5408a0b8642    #VALUE!  27/10/2016 17:00  27/10/2016 14:00   \n",
       "...                ...        ...               ...               ...   \n",
       "5448  324f7c39a8410e7c    #VALUE!  31/12/2016 20:00  29/12/2016 19:00   \n",
       "5449  324f7c39a8410e7c    #VALUE!  31/12/2016 20:00  27/11/2016 18:00   \n",
       "5450  324f7c39a8410e7c    #VALUE!  31/12/2016 20:00  30/12/2016 18:00   \n",
       "5451  db80363d35f10926    #VALUE!  31/12/2016 21:00  09/12/2016 20:00   \n",
       "5452  db80363d35f10926    #VALUE!  31/12/2016 23:00  28/12/2016 10:00   \n",
       "\n",
       "      reserve_visitors  \n",
       "1567                 5  \n",
       "1568                 5  \n",
       "1569                 1  \n",
       "1570                 1  \n",
       "1571                 2  \n",
       "...                ...  \n",
       "5448                 4  \n",
       "5449                 2  \n",
       "5450                 7  \n",
       "5451                 7  \n",
       "5452                 2  \n",
       "\n",
       "[3886 rows x 5 columns]"
      ]
     },
     "execution_count": 36,
     "metadata": {},
     "output_type": "execute_result"
    }
   ],
   "source": [
    "# 3886 valores fueron identificados como error\n",
    "\n",
    "df[df['visit_date'] ==  '#VALUE!']"
   ]
  },
  {
   "cell_type": "markdown",
   "id": "fc46a901",
   "metadata": {},
   "source": [
    "### ***Limpiando errores***"
   ]
  },
  {
   "cell_type": "code",
   "execution_count": 37,
   "id": "ae0391e5",
   "metadata": {},
   "outputs": [
    {
     "data": {
      "text/plain": [
       "RangeIndex(start=0, stop=12162, step=1)"
      ]
     },
     "execution_count": 37,
     "metadata": {},
     "output_type": "execute_result"
    }
   ],
   "source": [
    "# Confirmando la estructura de los índices\n",
    "\n",
    "df.index"
   ]
  },
  {
   "cell_type": "code",
   "execution_count": 38,
   "id": "8306663c",
   "metadata": {},
   "outputs": [],
   "source": [
    "# Filtrando datos erroneos\n",
    "\n",
    "datos_erroneos = df[df['visit_date'] ==  '#VALUE!']"
   ]
  },
  {
   "cell_type": "code",
   "execution_count": 39,
   "id": "c052ef95",
   "metadata": {},
   "outputs": [
    {
     "data": {
      "text/html": [
       "<div>\n",
       "<style scoped>\n",
       "    .dataframe tbody tr th:only-of-type {\n",
       "        vertical-align: middle;\n",
       "    }\n",
       "\n",
       "    .dataframe tbody tr th {\n",
       "        vertical-align: top;\n",
       "    }\n",
       "\n",
       "    .dataframe thead th {\n",
       "        text-align: right;\n",
       "    }\n",
       "</style>\n",
       "<table border=\"1\" class=\"dataframe\">\n",
       "  <thead>\n",
       "    <tr style=\"text-align: right;\">\n",
       "      <th></th>\n",
       "      <th>id</th>\n",
       "      <th>visit_date</th>\n",
       "      <th>visit_datetime</th>\n",
       "      <th>reserve_datetime</th>\n",
       "      <th>reserve_visitors</th>\n",
       "    </tr>\n",
       "  </thead>\n",
       "  <tbody>\n",
       "    <tr>\n",
       "      <th>1567</th>\n",
       "      <td>965b2e0cf4119003</td>\n",
       "      <td>#VALUE!</td>\n",
       "      <td>26/10/2016 20:00</td>\n",
       "      <td>25/10/2016 17:00</td>\n",
       "      <td>5</td>\n",
       "    </tr>\n",
       "    <tr>\n",
       "      <th>1568</th>\n",
       "      <td>42c9aa6d617c5057</td>\n",
       "      <td>#VALUE!</td>\n",
       "      <td>27/10/2016 11:00</td>\n",
       "      <td>26/10/2016 13:00</td>\n",
       "      <td>5</td>\n",
       "    </tr>\n",
       "    <tr>\n",
       "      <th>1569</th>\n",
       "      <td>45326ebb8dc72cfb</td>\n",
       "      <td>#VALUE!</td>\n",
       "      <td>27/10/2016 11:00</td>\n",
       "      <td>26/10/2016 21:00</td>\n",
       "      <td>1</td>\n",
       "    </tr>\n",
       "    <tr>\n",
       "      <th>1570</th>\n",
       "      <td>45326ebb8dc72cfb</td>\n",
       "      <td>#VALUE!</td>\n",
       "      <td>27/10/2016 11:00</td>\n",
       "      <td>26/10/2016 21:00</td>\n",
       "      <td>1</td>\n",
       "    </tr>\n",
       "    <tr>\n",
       "      <th>1571</th>\n",
       "      <td>0a74a5408a0b8642</td>\n",
       "      <td>#VALUE!</td>\n",
       "      <td>27/10/2016 17:00</td>\n",
       "      <td>27/10/2016 14:00</td>\n",
       "      <td>2</td>\n",
       "    </tr>\n",
       "  </tbody>\n",
       "</table>\n",
       "</div>"
      ],
      "text/plain": [
       "                    id visit_date    visit_datetime  reserve_datetime  \\\n",
       "1567  965b2e0cf4119003    #VALUE!  26/10/2016 20:00  25/10/2016 17:00   \n",
       "1568  42c9aa6d617c5057    #VALUE!  27/10/2016 11:00  26/10/2016 13:00   \n",
       "1569  45326ebb8dc72cfb    #VALUE!  27/10/2016 11:00  26/10/2016 21:00   \n",
       "1570  45326ebb8dc72cfb    #VALUE!  27/10/2016 11:00  26/10/2016 21:00   \n",
       "1571  0a74a5408a0b8642    #VALUE!  27/10/2016 17:00  27/10/2016 14:00   \n",
       "\n",
       "      reserve_visitors  \n",
       "1567                 5  \n",
       "1568                 5  \n",
       "1569                 1  \n",
       "1570                 1  \n",
       "1571                 2  "
      ]
     },
     "execution_count": 39,
     "metadata": {},
     "output_type": "execute_result"
    }
   ],
   "source": [
    "datos_erroneos.head()"
   ]
  },
  {
   "cell_type": "code",
   "execution_count": 40,
   "id": "552e87dc",
   "metadata": {},
   "outputs": [
    {
     "name": "stderr",
     "output_type": "stream",
     "text": [
      "C:\\Users\\CRUZRAA\\AppData\\Local\\Temp\\ipykernel_19008\\3728984911.py:3: UserWarning: Parsing dates in %d/%m/%Y %H:%M format when dayfirst=False (the default) was specified. Pass `dayfirst=True` or specify a format to silence this warning.\n",
      "  datos_erroneos['visit_datetime'] = pd.to_datetime(datos_erroneos['visit_datetime'], errors='coerce')\n",
      "C:\\Users\\CRUZRAA\\AppData\\Local\\Temp\\ipykernel_19008\\3728984911.py:3: SettingWithCopyWarning: \n",
      "A value is trying to be set on a copy of a slice from a DataFrame.\n",
      "Try using .loc[row_indexer,col_indexer] = value instead\n",
      "\n",
      "See the caveats in the documentation: https://pandas.pydata.org/pandas-docs/stable/user_guide/indexing.html#returning-a-view-versus-a-copy\n",
      "  datos_erroneos['visit_datetime'] = pd.to_datetime(datos_erroneos['visit_datetime'], errors='coerce')\n"
     ]
    }
   ],
   "source": [
    "# Convertir 'visit_datetime' a datetime para poder hacer el split\n",
    "\n",
    "datos_erroneos['visit_datetime'] = pd.to_datetime(datos_erroneos['visit_datetime'], errors='coerce')"
   ]
  },
  {
   "cell_type": "code",
   "execution_count": 41,
   "id": "fcf2461f",
   "metadata": {},
   "outputs": [
    {
     "name": "stderr",
     "output_type": "stream",
     "text": [
      "C:\\Users\\CRUZRAA\\AppData\\Local\\Temp\\ipykernel_19008\\2989969118.py:3: SettingWithCopyWarning: \n",
      "A value is trying to be set on a copy of a slice from a DataFrame.\n",
      "Try using .loc[row_indexer,col_indexer] = value instead\n",
      "\n",
      "See the caveats in the documentation: https://pandas.pydata.org/pandas-docs/stable/user_guide/indexing.html#returning-a-view-versus-a-copy\n",
      "  datos_erroneos['visit_date'] = datos_erroneos['visit_datetime'].dt.strftime('%Y-%m-%d')\n"
     ]
    }
   ],
   "source": [
    "# Reemplazar la columna 'visit_date' con la parte de la fecha de 'visit_datetime' para dejar el miso formato\n",
    "\n",
    "datos_erroneos['visit_date'] = datos_erroneos['visit_datetime'].dt.strftime('%Y-%m-%d') "
   ]
  },
  {
   "cell_type": "code",
   "execution_count": 48,
   "id": "3bcfa988",
   "metadata": {},
   "outputs": [
    {
     "data": {
      "text/html": [
       "<div>\n",
       "<style scoped>\n",
       "    .dataframe tbody tr th:only-of-type {\n",
       "        vertical-align: middle;\n",
       "    }\n",
       "\n",
       "    .dataframe tbody tr th {\n",
       "        vertical-align: top;\n",
       "    }\n",
       "\n",
       "    .dataframe thead th {\n",
       "        text-align: right;\n",
       "    }\n",
       "</style>\n",
       "<table border=\"1\" class=\"dataframe\">\n",
       "  <thead>\n",
       "    <tr style=\"text-align: right;\">\n",
       "      <th></th>\n",
       "      <th>id</th>\n",
       "      <th>visit_date</th>\n",
       "      <th>visit_datetime</th>\n",
       "      <th>reserve_datetime</th>\n",
       "      <th>reserve_visitors</th>\n",
       "    </tr>\n",
       "  </thead>\n",
       "  <tbody>\n",
       "    <tr>\n",
       "      <th>1567</th>\n",
       "      <td>965b2e0cf4119003</td>\n",
       "      <td>2016-10-26</td>\n",
       "      <td>2016-10-26 20:00:00</td>\n",
       "      <td>25/10/2016 17:00</td>\n",
       "      <td>5</td>\n",
       "    </tr>\n",
       "    <tr>\n",
       "      <th>1568</th>\n",
       "      <td>42c9aa6d617c5057</td>\n",
       "      <td>2016-10-27</td>\n",
       "      <td>2016-10-27 11:00:00</td>\n",
       "      <td>26/10/2016 13:00</td>\n",
       "      <td>5</td>\n",
       "    </tr>\n",
       "    <tr>\n",
       "      <th>1569</th>\n",
       "      <td>45326ebb8dc72cfb</td>\n",
       "      <td>2016-10-27</td>\n",
       "      <td>2016-10-27 11:00:00</td>\n",
       "      <td>26/10/2016 21:00</td>\n",
       "      <td>1</td>\n",
       "    </tr>\n",
       "    <tr>\n",
       "      <th>1570</th>\n",
       "      <td>45326ebb8dc72cfb</td>\n",
       "      <td>2016-10-27</td>\n",
       "      <td>2016-10-27 11:00:00</td>\n",
       "      <td>26/10/2016 21:00</td>\n",
       "      <td>1</td>\n",
       "    </tr>\n",
       "    <tr>\n",
       "      <th>1571</th>\n",
       "      <td>0a74a5408a0b8642</td>\n",
       "      <td>2016-10-27</td>\n",
       "      <td>2016-10-27 17:00:00</td>\n",
       "      <td>27/10/2016 14:00</td>\n",
       "      <td>2</td>\n",
       "    </tr>\n",
       "  </tbody>\n",
       "</table>\n",
       "</div>"
      ],
      "text/plain": [
       "                    id  visit_date      visit_datetime  reserve_datetime  \\\n",
       "1567  965b2e0cf4119003  2016-10-26 2016-10-26 20:00:00  25/10/2016 17:00   \n",
       "1568  42c9aa6d617c5057  2016-10-27 2016-10-27 11:00:00  26/10/2016 13:00   \n",
       "1569  45326ebb8dc72cfb  2016-10-27 2016-10-27 11:00:00  26/10/2016 21:00   \n",
       "1570  45326ebb8dc72cfb  2016-10-27 2016-10-27 11:00:00  26/10/2016 21:00   \n",
       "1571  0a74a5408a0b8642  2016-10-27 2016-10-27 17:00:00  27/10/2016 14:00   \n",
       "\n",
       "      reserve_visitors  \n",
       "1567                 5  \n",
       "1568                 5  \n",
       "1569                 1  \n",
       "1570                 1  \n",
       "1571                 2  "
      ]
     },
     "execution_count": 48,
     "metadata": {},
     "output_type": "execute_result"
    }
   ],
   "source": [
    "datos_erroneos.head()"
   ]
  },
  {
   "cell_type": "markdown",
   "id": "a579452b",
   "metadata": {},
   "source": [
    "### ***Reemplazar en el df original***"
   ]
  },
  {
   "cell_type": "code",
   "execution_count": 43,
   "id": "0a8488a8",
   "metadata": {},
   "outputs": [],
   "source": [
    "datos_erroneos_index = df[df['visit_date'] ==  '#VALUE!'].index"
   ]
  },
  {
   "cell_type": "code",
   "execution_count": 44,
   "id": "52d71218",
   "metadata": {},
   "outputs": [
    {
     "data": {
      "text/plain": [
       "(12162, 5)"
      ]
     },
     "execution_count": 44,
     "metadata": {},
     "output_type": "execute_result"
    }
   ],
   "source": [
    "df.shape"
   ]
  },
  {
   "cell_type": "code",
   "execution_count": 45,
   "id": "d532588b",
   "metadata": {},
   "outputs": [],
   "source": [
    "# Eliminando filas\n",
    "\n",
    "df.drop(datos_erroneos_index, inplace=True)"
   ]
  },
  {
   "cell_type": "code",
   "execution_count": 46,
   "id": "897b4af9",
   "metadata": {},
   "outputs": [
    {
     "name": "stdout",
     "output_type": "stream",
     "text": [
      "(8276, 5)\n"
     ]
    }
   ],
   "source": [
    "# Confirmando la eliminación de las filas\n",
    "\n",
    "print(df.shape)\n",
    "df.reset_index(drop=True, inplace=True)"
   ]
  },
  {
   "cell_type": "code",
   "execution_count": 49,
   "id": "5e611b0e",
   "metadata": {},
   "outputs": [],
   "source": [
    "df_completo = pd.concat([df,datos_erroneos])"
   ]
  },
  {
   "cell_type": "code",
   "execution_count": null,
   "id": "fde60df8",
   "metadata": {},
   "outputs": [
    {
     "data": {
      "text/plain": [
       "(12162, 5)"
      ]
     },
     "execution_count": 50,
     "metadata": {},
     "output_type": "execute_result"
    }
   ],
   "source": [
    "# Confirmando que estén todos los datos\n",
    "\n",
    "df_completo.shape"
   ]
  },
  {
   "cell_type": "code",
   "execution_count": 52,
   "id": "ea144c1c",
   "metadata": {},
   "outputs": [],
   "source": [
    "df_completo.to_csv(r'C:\\Users\\CRUZRAA\\OneDrive - MC CORMICK & COMPANY INC\\Documentos\\02.2025\\04. PERSONAL\\BIChallenge\\restaurants_visitors_limpio.csv', index=False, sep =',')"
   ]
  }
 ],
 "metadata": {
  "kernelspec": {
   "display_name": "base",
   "language": "python",
   "name": "python3"
  },
  "language_info": {
   "codemirror_mode": {
    "name": "ipython",
    "version": 3
   },
   "file_extension": ".py",
   "mimetype": "text/x-python",
   "name": "python",
   "nbconvert_exporter": "python",
   "pygments_lexer": "ipython3",
   "version": "3.11.7"
  }
 },
 "nbformat": 4,
 "nbformat_minor": 5
}
